{
 "cells": [
  {
   "cell_type": "code",
   "execution_count": 1,
   "metadata": {},
   "outputs": [],
   "source": [
    "# Imports\n",
    "import numpy as np"
   ]
  },
  {
   "cell_type": "code",
   "execution_count": 12,
   "metadata": {},
   "outputs": [
    {
     "name": "stdout",
     "output_type": "stream",
     "text": [
      "arry1 is:  [1 2 3]\n",
      "type:  <class 'numpy.ndarray'>\n"
     ]
    },
    {
     "data": {
      "text/plain": [
       "array([1, 2, 3])"
      ]
     },
     "execution_count": 12,
     "metadata": {},
     "output_type": "execute_result"
    }
   ],
   "source": [
    "# Making 1-D arrays\n",
    "arry1 = np.array([1, 2, 3])\n",
    "print('arry1 is: ',arry1)\n",
    "print('type: ',type(arry1))\n",
    "arry1"
   ]
  },
  {
   "cell_type": "code",
   "execution_count": 15,
   "metadata": {},
   "outputs": [
    {
     "name": "stdout",
     "output_type": "stream",
     "text": [
      "[[1. 2. 3.]\n",
      " [4. 5. 6.]]\n"
     ]
    },
    {
     "data": {
      "text/plain": [
       "array([[1., 2., 3.],\n",
       "       [4., 5., 6.]])"
      ]
     },
     "execution_count": 15,
     "metadata": {},
     "output_type": "execute_result"
    }
   ],
   "source": [
    "# Making 2-D arrays and specifying datatypes\n",
    "list_in = [[1, 2, 3], [4, 5, 6]]\n",
    "arry2 = np.array(list_in, dtype='float')\n",
    "print(arry2)\n",
    "arry2"
   ]
  },
  {
   "cell_type": "code",
   "execution_count": 18,
   "metadata": {},
   "outputs": [
    {
     "data": {
      "text/plain": [
       "array([[1, 2, 3],\n",
       "       [4, 5, 6]])"
      ]
     },
     "execution_count": 18,
     "metadata": {},
     "output_type": "execute_result"
    }
   ],
   "source": [
    "# Converting types:\n",
    "arry3 = arry2.astype('int')\n",
    "arry3\n",
    "# Note: You an also make arrays of type 'object' and have strings and stuff in them!"
   ]
  },
  {
   "cell_type": "code",
   "execution_count": 19,
   "metadata": {},
   "outputs": [
    {
     "data": {
      "text/plain": [
       "[[1, 2, 3], [4, 5, 6]]"
      ]
     },
     "execution_count": 19,
     "metadata": {},
     "output_type": "execute_result"
    }
   ],
   "source": [
    "# Converting back to lists:\n",
    "list3 = arry3.tolist()\n",
    "list3"
   ]
  },
  {
   "cell_type": "code",
   "execution_count": 28,
   "metadata": {},
   "outputs": [
    {
     "data": {
      "text/plain": [
       "array([4, 5])"
      ]
     },
     "execution_count": 28,
     "metadata": {},
     "output_type": "execute_result"
    }
   ],
   "source": [
    "# Referencing parts of arrays\n",
    "arry3[1][:2] # ':' can be read as 'up to but not including' in a zero-indexed system.\n",
    "             # otherwise it's very similar to regular lists\n"
   ]
  },
  {
   "cell_type": "code",
   "execution_count": 32,
   "metadata": {},
   "outputs": [
    {
     "name": "stdout",
     "output_type": "stream",
     "text": [
      "Number of dimensions in arry3: 2\n",
      "Shape of arry3: (2, 3)\n",
      "Datatype of arry3: int64\n"
     ]
    }
   ],
   "source": [
    "# Getting info on arrays:\n",
    "print('Number of dimensions in arry3:',arry3.ndim)\n",
    "print('Shape of arry3:',arry3.shape) # linear algebra ordering. Returns tuple.\n",
    "print('Datatype of arry3:',arry3.dtype)\n"
   ]
  },
  {
   "cell_type": "code",
   "execution_count": 38,
   "metadata": {},
   "outputs": [
    {
     "name": "stdout",
     "output_type": "stream",
     "text": [
      "Parts of arry3 > 3:\n",
      " [[False False False]\n",
      " [ True  True  True]]\n",
      "arry3 at those points:  [4 5 6]\n"
     ]
    }
   ],
   "source": [
    "# Boolean indexing:\n",
    "arry_bool = arry3 > 3\n",
    "print('Parts of arry3 > 3:\\n',arry_bool)\n",
    "print('arry3 at those points: ', arry3[arry_bool])"
   ]
  },
  {
   "cell_type": "code",
   "execution_count": 54,
   "metadata": {},
   "outputs": [
    {
     "data": {
      "text/plain": [
       "array([[nan, inf,  3.],\n",
       "       [ 4.,  5.,  6.]])"
      ]
     },
     "execution_count": 54,
     "metadata": {},
     "output_type": "execute_result"
    }
   ],
   "source": [
    "# nan and inf: remember that nan and inf are floats...\n",
    "arry3 = arry3.astype('float')\n",
    "arry3[0,0] = np.nan\n",
    "arry3[0,1] = np.inf\n",
    "arry3"
   ]
  },
  {
   "cell_type": "code",
   "execution_count": 55,
   "metadata": {},
   "outputs": [
    {
     "data": {
      "text/plain": [
       "array([[-1., -1.,  3.],\n",
       "       [ 4.,  5.,  6.]])"
      ]
     },
     "execution_count": 55,
     "metadata": {},
     "output_type": "execute_result"
    }
   ],
   "source": [
    "\n",
    "missing_parts = np.isnan(arry3) | np.isinf(arry3)\n",
    "arry3[missing_parts] = -1\n",
    "arry3"
   ]
  },
  {
   "cell_type": "code",
   "execution_count": 118,
   "metadata": {},
   "outputs": [
    {
     "name": "stdout",
     "output_type": "stream",
     "text": [
      "6.0\n",
      "-1.0\n",
      "Min per column:  [-1. -1.  3.]\n",
      "Min per row:  [-1.  4.]\n"
     ]
    }
   ],
   "source": [
    "print(arry3.max())\n",
    "print(arry3.min())\n",
    "\n",
    "print('Min per column: ',np.amin(arry3, axis=0))\n",
    "print('Min per row: ', np.amin(arry3, axis=1))"
   ]
  },
  {
   "cell_type": "code",
   "execution_count": 119,
   "metadata": {},
   "outputs": [],
   "source": [
    "# Creating new array from existing array\n",
    "arry3_cpy = arry3.copy()\n",
    "arry3_notcpy = arry3"
   ]
  },
  {
   "cell_type": "code",
   "execution_count": 120,
   "metadata": {},
   "outputs": [
    {
     "data": {
      "text/plain": [
       "array([-1., -1.,  3.,  4.,  5.,  6.])"
      ]
     },
     "execution_count": 120,
     "metadata": {},
     "output_type": "execute_result"
    }
   ],
   "source": [
    "# Flattening\n",
    "flat = arry3.flatten()\n",
    "flat"
   ]
  },
  {
   "cell_type": "code",
   "execution_count": 121,
   "metadata": {},
   "outputs": [
    {
     "data": {
      "text/plain": [
       "array([[ 0,  1,  2,  3,  4,  5],\n",
       "       [ 6,  7,  8,  9, 10, 11],\n",
       "       [12, 13, 14, 15, 16, 17],\n",
       "       [18, 19, 20, 21, 22, 23],\n",
       "       [24, 25, 26, 27, 28, 29],\n",
       "       [30, 31, 32, 33, 34, 35]])"
      ]
     },
     "execution_count": 121,
     "metadata": {},
     "output_type": "execute_result"
    }
   ],
   "source": [
    "# np.arange(...) works the same as range() and generates that as an np array.\n",
    "inArry = np.arange(0, 36)\n",
    "outArry = inArry.reshape(6, 6)\n",
    "outArry"
   ]
  },
  {
   "cell_type": "code",
   "execution_count": 122,
   "metadata": {},
   "outputs": [
    {
     "data": {
      "text/plain": [
       "array([[ 0,  1,  2,  3,  4,  5],\n",
       "       [ 6,  7,  8,  9, 10, 11],\n",
       "       [12, 13, 14, 15, 16, 17],\n",
       "       [18, 19, 20, 21, 22, 23],\n",
       "       [24, 25, 26, 27, 28, 29],\n",
       "       [30, 31, 32, 33, 34, 35],\n",
       "       [ 4,  1,  4,  2,  3,  4]])"
      ]
     },
     "execution_count": 122,
     "metadata": {},
     "output_type": "execute_result"
    }
   ],
   "source": [
    "append = np.array([4, 1, 4, 2, 3, 4])\n",
    "append = append.reshape((1, 6))\n",
    "outArry = np.concatenate((outArry, append), axis=0)\n",
    "outArry"
   ]
  },
  {
   "cell_type": "code",
   "execution_count": 123,
   "metadata": {},
   "outputs": [
    {
     "data": {
      "text/plain": [
       "array([[ 0,  1,  2,  3,  4,  5,  0],\n",
       "       [ 6,  7,  8,  9, 10, 11,  1],\n",
       "       [12, 13, 14, 15, 16, 17,  2],\n",
       "       [18, 19, 20, 21, 22, 23,  3],\n",
       "       [24, 25, 26, 27, 28, 29,  4],\n",
       "       [30, 31, 32, 33, 34, 35,  5],\n",
       "       [ 4,  1,  4,  2,  3,  4,  6]])"
      ]
     },
     "execution_count": 123,
     "metadata": {},
     "output_type": "execute_result"
    }
   ],
   "source": [
    "append = np.arange(7)\n",
    "append = append.reshape((1, append.shape[0]))\n",
    "append = np.transpose(append)\n",
    "outArry = np.concatenate((outArry, append), axis = 1)\n",
    "outArry"
   ]
  },
  {
   "cell_type": "code",
   "execution_count": 126,
   "metadata": {},
   "outputs": [
    {
     "data": {
      "text/plain": [
       "array([0, 1, 2, 3, 4, 5, 6])"
      ]
     },
     "execution_count": 126,
     "metadata": {},
     "output_type": "execute_result"
    }
   ],
   "source": [
    "labels = outArry[:, outArry.shape[1]-1]\n",
    "labels"
   ]
  },
  {
   "cell_type": "code",
   "execution_count": 127,
   "metadata": {},
   "outputs": [
    {
     "data": {
      "text/plain": [
       "array([[ 0,  1,  2,  3,  4,  5],\n",
       "       [ 6,  7,  8,  9, 10, 11],\n",
       "       [12, 13, 14, 15, 16, 17],\n",
       "       [18, 19, 20, 21, 22, 23],\n",
       "       [24, 25, 26, 27, 28, 29],\n",
       "       [30, 31, 32, 33, 34, 35],\n",
       "       [ 4,  1,  4,  2,  3,  4]])"
      ]
     },
     "execution_count": 127,
     "metadata": {},
     "output_type": "execute_result"
    }
   ],
   "source": [
    "outArry = outArry[:, :(outArry.shape[1]-1)]\n",
    "outArry"
   ]
  },
  {
   "cell_type": "code",
   "execution_count": 128,
   "metadata": {},
   "outputs": [],
   "source": [
    "import matplotlib.pyplot as plt\n",
    "from sklearn.linear_model import LinearRegression\n",
    "from sklearn.metrics import mean_squared_error, r2_score"
   ]
  },
  {
   "cell_type": "code",
   "execution_count": 129,
   "metadata": {},
   "outputs": [],
   "source": [
    "# Model initialization\n",
    "regression_model = LinearRegression()\n",
    "# Fit the data(train the model)\n",
    "regression_model.fit(outArry, labels)\n",
    "# Predict\n",
    "y_predicted = regression_model.predict(outArry)\n"
   ]
  },
  {
   "cell_type": "code",
   "execution_count": 130,
   "metadata": {},
   "outputs": [
    {
     "data": {
      "text/plain": [
       "array([7.99360578e-15, 1.00000000e+00, 2.00000000e+00, 3.00000000e+00,\n",
       "       4.00000000e+00, 5.00000000e+00, 6.00000000e+00])"
      ]
     },
     "execution_count": 130,
     "metadata": {},
     "output_type": "execute_result"
    }
   ],
   "source": [
    "y_predicted"
   ]
  },
  {
   "cell_type": "code",
   "execution_count": 131,
   "metadata": {},
   "outputs": [
    {
     "data": {
      "text/plain": [
       "LinearRegression(copy_X=True, fit_intercept=True, n_jobs=None,\n",
       "         normalize=False)"
      ]
     },
     "execution_count": 131,
     "metadata": {},
     "output_type": "execute_result"
    }
   ],
   "source": [
    "regression_model"
   ]
  },
  {
   "cell_type": "code",
   "execution_count": null,
   "metadata": {},
   "outputs": [],
   "source": []
  }
 ],
 "metadata": {
  "kernelspec": {
   "display_name": "Python 3",
   "language": "python",
   "name": "python3"
  },
  "language_info": {
   "codemirror_mode": {
    "name": "ipython",
    "version": 3
   },
   "file_extension": ".py",
   "mimetype": "text/x-python",
   "name": "python",
   "nbconvert_exporter": "python",
   "pygments_lexer": "ipython3",
   "version": "3.7.1"
  }
 },
 "nbformat": 4,
 "nbformat_minor": 2
}
